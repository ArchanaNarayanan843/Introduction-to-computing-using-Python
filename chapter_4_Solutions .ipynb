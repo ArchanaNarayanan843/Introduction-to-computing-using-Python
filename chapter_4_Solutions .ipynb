{
 "cells": [
  {
   "cell_type": "markdown",
   "metadata": {},
   "source": [
    "## CHAPTER 4"
   ]
  },
  {
   "cell_type": "markdown",
   "metadata": {},
   "source": [
    "### 4.1 Start by executing the assignment:\n",
    "        s = '0123456789'\n",
    "    Now write expressions using string s and the indexing operator that evaluate to:\n",
    "    (a) '234'\n",
    "    (b) '78'\n",
    "    (c) '1234567'\n",
    "    (d) '0123'\n",
    "    (e) '789'"
   ]
  },
  {
   "cell_type": "code",
   "execution_count": 2,
   "metadata": {},
   "outputs": [
    {
     "name": "stdout",
     "output_type": "stream",
     "text": [
      "(a): 234\n",
      "(b): 78\n",
      "(c): 01234567\n",
      "(d): 0123\n",
      "(e): 789\n"
     ]
    }
   ],
   "source": [
    "s = '0123456789'\n",
    "print('(a):',s[2:5])\n",
    "print('(b):',s[-3:-1])\n",
    "print('(c):',s[:-2])\n",
    "print('(d):',s[0:4])\n",
    "print('(e):',s[-3:])"
   ]
  },
  {
   "cell_type": "markdown",
   "metadata": {},
   "source": [
    "### 4.2 Assuming that variable forecast has been assigned string\n",
    "                    'It will be a sunny day today'\n",
    "            write Python statements corresponding to these assignments:\n",
    "        (a) To variable count, the number of occurrences of string 'day' in string forecast.\n",
    "        (b) To variable weather, the index where substring 'sunny' starts.\n",
    "        (c) To variable change, a copy of forecast in which every occurrence of substring\n",
    "        'sunny' is replaced by 'cloudy'."
   ]
  },
  {
   "cell_type": "code",
   "execution_count": 5,
   "metadata": {},
   "outputs": [
    {
     "name": "stdout",
     "output_type": "stream",
     "text": [
      "2\n",
      "13\n",
      "It will be a cloudy day today\n"
     ]
    }
   ],
   "source": [
    "forecast='It will be a sunny day today'\n",
    "count=forecast.count('day')\n",
    "print(count)\n",
    "weather=forecast.find('sunny')\n",
    "print(weather)\n",
    "change=forecast.replace('sunny','cloudy')\n",
    "print(change)\n"
   ]
  },
  {
   "cell_type": "markdown",
   "metadata": {},
   "source": [
    "### 4.3 Write a statement that prints the values of variables last, first, and middle in one line, separated by a horizontal tab character. (The Python escape sequence for the horizontal tab character is \\t.) If the variables are assigned like this:\n"
   ]
  },
  {
   "cell_type": "code",
   "execution_count": 6,
   "metadata": {},
   "outputs": [
    {
     "name": "stdout",
     "output_type": "stream",
     "text": [
      "Smith\tJohn\tPaul\n"
     ]
    }
   ],
   "source": [
    "last = 'Smith'\n",
    "first = 'John'\n",
    "middle = 'Paul'\n",
    "print(last,first,middle,sep='\\t')"
   ]
  },
  {
   "cell_type": "markdown",
   "metadata": {},
   "source": [
    "### 4.4 Write function even() that takes a positive integer n as input and prints on the screen all numbers between, and including, 2 and n divisible by 2 or by 3, using this output format:\n"
   ]
  },
  {
   "cell_type": "code",
   "execution_count": 8,
   "metadata": {},
   "outputs": [
    {
     "name": "stdout",
     "output_type": "stream",
     "text": [
      "Enter a positive integer: 15\n",
      "2 3 4 6 8 9 10 12 14 15 None\n"
     ]
    }
   ],
   "source": [
    "n=int(input('Enter a positive integer: '))\n",
    "def even(n):\n",
    "    for i in range(1,n+1):\n",
    "        if (i%2==0) or (i%3==0):\n",
    "            print(i,end=\" \")\n",
    "print(even(n))\n",
    "    "
   ]
  },
  {
   "cell_type": "markdown",
   "metadata": {},
   "source": [
    "### 4.5 Assume variables first, last, street, number, city, state, zipcode have already been assigned. Write a print statement that creates a mailing label:\n",
    "                    John Doe\n",
    "                    123 Main Street\n",
    "                    AnyCity, AS 09876\n",
    "       \n",
    "       assuming that:\n",
    "            first = 'John'\n",
    "            last = 'Doe'\n",
    "            street = 'Main Street'\n",
    "            number = 123\n",
    "            city = 'AnyCity'\n",
    "            state = 'AS'\n",
    "            zipcode = '09876'"
   ]
  },
  {
   "cell_type": "code",
   "execution_count": 11,
   "metadata": {},
   "outputs": [
    {
     "name": "stdout",
     "output_type": "stream",
     "text": [
      "John Doe\n",
      "123 Main Street\n",
      "AnyCity, AS 09876\n"
     ]
    }
   ],
   "source": [
    "first = 'John'\n",
    "last = 'Doe'\n",
    "street = 'Main Street'\n",
    "number = 123\n",
    "city = 'AnyCity'\n",
    "state = 'AS'\n",
    "zipcode = '09876'   \n",
    "print('{} {}\\n{} {}\\n{}, {} {}'.format(first,last,number,street,city,state,zipcode))"
   ]
  },
  {
   "cell_type": "markdown",
   "metadata": {},
   "source": [
    "### 4.6 Implement function roster() that takes a list containing student information and prints out a roster, as shown below. The student information, consisting of the student’s last name, first name, class, and average course grade, will be stored in that order in a list. Therefore, the input list is a list of lists. Make sure the roster printed out has 10 slots for every string value and 8 for the grade, including 2 slots for the decimal part.\n"
   ]
  },
  {
   "cell_type": "code",
   "execution_count": 70,
   "metadata": {},
   "outputs": [
    {
     "name": "stdout",
     "output_type": "stream",
     "text": [
      "Last      First     Class         Average Grade\n",
      "DeMoines  Jim       Sophomore     3.45\n",
      "Pierre    Sophie    Sophomore     4.00\n",
      "Columbus  Maria     Senior        2.50\n",
      "Phoenix   River     Junior        2.45\n",
      "Olympis   Edgar     Junior        3.99\n",
      "None\n"
     ]
    }
   ],
   "source": [
    "students = []\n",
    "students.append(['DeMoines', 'Jim', 'Sophomore', 3.45])\n",
    "students.append(['Pierre', 'Sophie', 'Sophomore', 4.0])\n",
    "students.append(['Columbus', 'Maria', 'Senior', 2.5])\n",
    "students.append(['Phoenix', 'River', 'Junior', 2.45])\n",
    "students.append(['Olympis', 'Edgar', 'Junior', 3.99])\n",
    "def roster(students):\n",
    "\n",
    "    print('Last      First     Class         Average Grade')\n",
    "    for student in students:\n",
    "        print('{:10}{:10}{:10}{:8.2f}'.format(student[0],student[1], student[2], student[3]))\n",
    "\n",
    "print(roster(students))"
   ]
  },
  {
   "cell_type": "markdown",
   "metadata": {},
   "source": [
    "### 4.7 Start by setting t to be the local time 1, 500, 000, 000 seconds from the start of January 1, 1970 UTC:\n"
   ]
  },
  {
   "cell_type": "code",
   "execution_count": 21,
   "metadata": {},
   "outputs": [
    {
     "name": "stdout",
     "output_type": "stream",
     "text": [
      "Friday, July 14 2017\n",
      "08:10 AM IST Central Daylight Time on 07/14/2017\n",
      "I will meet you on Fri July 14 at 08:10 AM.\n"
     ]
    }
   ],
   "source": [
    "import time\n",
    "t = time.localtime(1500000000)\n",
    "\n",
    "\n",
    "print(time.strftime('%A, %B %d %Y', t))\n",
    "print(time.strftime('%I:%M %p %Z Central Daylight Time on %m/%d/%Y',t))\n",
    "print(time.strftime('I will meet you on %a %B %d at %I:%M %p.', t))\n"
   ]
  },
  {
   "cell_type": "markdown",
   "metadata": {},
   "source": [
    "### 4.8 Write function stringCount() that takes two string inputs—a file name and a target string—and returns the number of occurrences of the target string in the file.\n"
   ]
  },
  {
   "cell_type": "code",
   "execution_count": 33,
   "metadata": {},
   "outputs": [
    {
     "name": "stdout",
     "output_type": "stream",
     "text": [
      "4\n"
     ]
    }
   ],
   "source": [
    "def stringcount(filename,target):\n",
    "    infile=open(filename)\n",
    "    content=infile.read()\n",
    "    infile.close()\n",
    "    Result=content.count(target)\n",
    "    return(Result)\n",
    "print(stringcount('example.txt','line'))"
   ]
  },
  {
   "cell_type": "markdown",
   "metadata": {},
   "source": [
    "### 4.9 Write function words() that takes one input argument—a file name—and returns the list of actual words (without punctuation symbols !,.:;?) in the file.\n"
   ]
  },
  {
   "cell_type": "code",
   "execution_count": 34,
   "metadata": {},
   "outputs": [
    {
     "name": "stdout",
     "output_type": "stream",
     "text": [
      "['the', '3', 'line', 'in', 'this', 'file', 'end', 'with', 'the', 'new', 'line', 'character', 'there', 'is', 'a', 'blank', 'line', 'above', 'this', 'line']\n"
     ]
    }
   ],
   "source": [
    "def words(filename):\n",
    "\n",
    "    infile = open(filename, 'r')\n",
    "    content = infile.read()\n",
    "    infile.close()\n",
    "    table = str.maketrans('!,.:;?', 6*' ')\n",
    "    content=content.translate(table)\n",
    "    content=content.lower()\n",
    "    return content.split()\n",
    "\n",
    "print(words('example.txt'))"
   ]
  },
  {
   "cell_type": "markdown",
   "metadata": {},
   "source": [
    "### 4.10 Implement function myGrep() that takes as input two strings, a file name and a target string, and prints every line of the file that contains the target string as a substring.\n"
   ]
  },
  {
   "cell_type": "code",
   "execution_count": 35,
   "metadata": {},
   "outputs": [
    {
     "name": "stdout",
     "output_type": "stream",
     "text": [
      "The 3 line in this file end with the new line character.\n",
      "There is a blank line above this line.\n",
      "None\n"
     ]
    }
   ],
   "source": [
    "def myGrep(filename, target):\n",
    "\n",
    "    infile = open(filename)\n",
    "    for line in infile:\n",
    "        if target in line:\n",
    "            print(line, end='')\n",
    "            \n",
    "print(myGrep('example.txt', 'line'))"
   ]
  },
  {
   "cell_type": "markdown",
   "metadata": {},
   "source": [
    "### 4.11 Explain what causes the syntax error in each statement just listed. Then write a correct version of each Python statement."
   ]
  },
  {
   "cell_type": "markdown",
   "metadata": {},
   "source": [
    ".    \n",
    "    \n",
    "    (a) The left parenthesis and the right bracket do not match. The intended expression is\n",
    "\n",
    "    probably either (3+4) (evaluating to integer 7) or [3+4] (evaluating to a list contain-\n",
    "    ing integer 7).\n",
    "\n",
    "    (b) The column is missing; the correct expression is if x == 5:.\n",
    "    (c) print() is a function and thus must be called with parentheses and with arguments,\n",
    "    if any, inside them; the correct expression is print('hello').\n",
    "    (d) The objects in a list are separated by commas: lst=[4,5,6] is correct.\n",
    "    (e) The statement(s) in the body of a for loop must be indented.\n",
    "        >>> for i in range(3):\n",
    "            print(i)"
   ]
  },
  {
   "cell_type": "markdown",
   "metadata": {},
   "source": [
    "### 4.12 Start by running, in the interactive shell, this assignment statement:\n",
    "        \n",
    "        s = 'abcdefghijklmnopqrstuvwxyz'\n",
    "\n",
    "    Now write expressions using string s and the indexing operator that evaluate to 'bcd',\n",
    "    'abc', 'defghijklmnopqrstuvwx', 'wxy', and 'wxyz'.\n"
   ]
  },
  {
   "cell_type": "code",
   "execution_count": 37,
   "metadata": {},
   "outputs": [
    {
     "name": "stdout",
     "output_type": "stream",
     "text": [
      "(a):  bcd\n",
      "(b):  abc\n",
      "(c):  efghijklmnopqrstuvwxyz\n",
      "(d):  wxy\n",
      "(e):  wxyz\n"
     ]
    }
   ],
   "source": [
    "s = 'abcdefghijklmnopqrstuvwxyz'\n",
    "print('(a): ',s[1:4])\n",
    "print('(b): ',s[0:3])\n",
    "print('(c): ',s[4:])\n",
    "print('(d): ',s[-4:-1])\n",
    "print('(e): ',s[-4:])"
   ]
  },
  {
   "cell_type": "markdown",
   "metadata": {},
   "source": [
    "### 4.13 Let string s be defined as:\n",
    "                s = 'abcdefghijklmnopqrstuvwxyz'\n",
    "        Write Python Boolean expressions that correspond to these propositions:\n",
    "            (a) The slice consisting of the second and third character of s is 'bc'.\n",
    "            (b) The slice consisting of the first 14 characters of s is 'abcdefghijklmn'.\n",
    "            (c) The slice of s excluding the first 14 characters is 'opqrstuvwxyz'.\n",
    "            (d) The slice of s excluding the first and last characters is 'bcdefghijklmnopqrstuvw'.\n"
   ]
  },
  {
   "cell_type": "code",
   "execution_count": 41,
   "metadata": {},
   "outputs": [
    {
     "name": "stdout",
     "output_type": "stream",
     "text": [
      "(a): False\n",
      "(b): True\n",
      "(c): True\n",
      "(d): False\n"
     ]
    }
   ],
   "source": [
    "s = 'abcdefghijklmnopqrstuvwxyz'\n",
    "print('(a):',s[2:4]=='bc')\n",
    "print('(b):',s[:14]=='abcdefghijklmn')\n",
    "print('(c):',s[14:]=='opqrstuvwxyz')\n",
    "print('(d):',s[1:-1]=='bcdefghijklmnopqrstuvw')\n"
   ]
  },
  {
   "cell_type": "markdown",
   "metadata": {},
   "source": [
    "### 4.14 Translate each part into a Python statement:\n",
    "    (a) Assign to variable log the next string, which happens to be a fragment of a log of a\n",
    "    request for a text file from a web server:\n",
    "    128.0.0.1 - - [12/Feb/2011:10:31:08 -0600] \"GET /docs/test.txt HTTP/1.0\"\n",
    "    (b) Assign to variable address the substring of log that ends before the first blank space\n",
    "    in log, using the string method split() and the indexing operator.\n",
    "    (c) Assign to variable date the splice of string log containing the date (12/Feb ...\n",
    "    -6000), using the indexing operator on string log.\n"
   ]
  },
  {
   "cell_type": "code",
   "execution_count": 49,
   "metadata": {},
   "outputs": [
    {
     "name": "stdout",
     "output_type": "stream",
     "text": [
      "128.0.0.1 - - [12/Feb/2011:10:31:08 -0600] \"GET /docs/test.txt HTTP/1.0\"\n",
      "['128.0.0.1', '-', '-', '[12/Feb/2011:10:31:08', '-0600]', '\"GET', '/docs/test.txt', 'HTTP/1.0\"']\n",
      "128.0.0.1\n",
      "[12/Feb/2011:10:31:08\n"
     ]
    }
   ],
   "source": [
    "log='128.0.0.1 - - [12/Feb/2011:10:31:08 -0600] \"GET /docs/test.txt HTTP/1.0\"'\n",
    "print(log)\n",
    "log=log.split( )\n",
    "print(log)\n",
    "address=log[0]\n",
    "print(address)\n",
    "print(log[3])"
   ]
  },
  {
   "cell_type": "markdown",
   "metadata": {},
   "source": [
    "### 4.15 For each of the below string values of s, write the expression involving s and the string methods split() that evaluates to list:\n",
    "                ['10', '20', '30', '40', '50', '60']\n",
    "\n",
    "        (a) s = '10 20 30 40 50 60'\n",
    "        (b) s = '10,20,30,40,50,60'\n",
    "        (c) s = '10&20&30&40&50&60'\n",
    "        (d) s = '10 - 20 - 30 - 40 - 50 - 60'\n"
   ]
  },
  {
   "cell_type": "code",
   "execution_count": 50,
   "metadata": {},
   "outputs": [
    {
     "name": "stdout",
     "output_type": "stream",
     "text": [
      "['10', '20', '30', '40', '50', '60']\n",
      "['10', '20', '30', '40', '50', '60']\n",
      "['10', '20', '30', '40', '50', '60']\n",
      "['10', '20', '30', '40', '50', '60']\n"
     ]
    }
   ],
   "source": [
    "s = '10 20 30 40 50 60'\n",
    "print(s.split( ))\n",
    "s = '10,20,30,40,50,60'\n",
    "print(s.split(',' ))\n",
    "s = '10&20&30&40&50&60'\n",
    "print(s.split('&' ))\n",
    "s = '10 - 20 - 30 - 40 - 50 - 60'\n",
    "print(s.split(' - ' ))\n",
    "\n",
    "\n"
   ]
  },
  {
   "cell_type": "markdown",
   "metadata": {},
   "source": [
    "### 4.16 Implement a program that requests three words (strings) from the user. Your program should print Boolean value True if the words were entered in dictionary order; otherwise nothing is printed.\n"
   ]
  },
  {
   "cell_type": "code",
   "execution_count": 140,
   "metadata": {},
   "outputs": [
    {
     "name": "stdout",
     "output_type": "stream",
     "text": [
      "Enter first word: hello\n",
      "Enter second word: car\n",
      "Enter third word: air\n",
      "False\n"
     ]
    }
   ],
   "source": [
    "a=input('Enter first word: ')\n",
    "b=input('Enter second word: ')\n",
    "c=input('Enter third word: ')\n",
    "word=[a,b,c]\n",
    "word.sort()\n",
    "if (word==word.sort()):\n",
    "    print(True)\n",
    "else:\n",
    "    print(False)\n",
    "\n"
   ]
  },
  {
   "cell_type": "markdown",
   "metadata": {},
   "source": [
    "### 4.17 Translate each part into a Python statement using appropriate string methods:\n",
    "        (a) Assign to variable message the string 'The secret of this message is that\n",
    "        it is secret.'\n",
    "        (b) Assign to variable length the length of string message, using operator len().\n",
    "        (c) Assign to variable count the number of times the substring 'secret' appears in\n",
    "        string message, using string method count().\n",
    "        (d) Assign to variable censored a copy of string message with every occurrence of\n",
    "        substring 'secret' replaced by 'xxxxxx', using string method replace().\n",
    "\n"
   ]
  },
  {
   "cell_type": "code",
   "execution_count": 64,
   "metadata": {},
   "outputs": [
    {
     "name": "stdout",
     "output_type": "stream",
     "text": [
      "48\n",
      "2\n",
      "The xxxxxx of this message is that it is xxxxxx.\n"
     ]
    }
   ],
   "source": [
    "message='The secret of this message is that it is secret.'\n",
    "lenght=len(message)\n",
    "print(lenght)\n",
    "count=message.count(\"secret\")\n",
    "print(count)\n",
    "censored=message.replace(\"secret\",\"xxxxxx\")\n",
    "print(censored)\n"
   ]
  },
  {
   "cell_type": "markdown",
   "metadata": {},
   "source": [
    "### 4.18 Suppose variable s has been assigned in this way:\n",
    "            s = '''It was the best of times, it was the worst of times; it\n",
    "                was the age of wisdom, it was the age of foolishness; it was the\n",
    "                epoch of belief, it was the epoch of incredulity; it was ... '''\n",
    "                            \n",
    "                        (The beginning of A Tale of Two Cities by Charles Dickens.) Then do the following, in order:\n",
    "\n",
    "        (a) Write a sequence of statements that produce a copy of s, named newS, in which char-\n",
    "        acters ., ,, ;, and \\n have been replaced by blank spaces.\n",
    "\n",
    "        (b) Remove leading and trailing blank spaces in newS (and name the new string newS).\n",
    "        (c) Make all the characters in newS lowercase (and name the new string newS).\n",
    "        (d) Compute the number of occurrences in newS of string 'it was'.\n",
    "        (e) Change every occurrence of was to is (and name the new string newS).\n",
    "        (f) Split newS into a list of words and name the list listS.\n",
    "\n"
   ]
  },
  {
   "cell_type": "code",
   "execution_count": 150,
   "metadata": {},
   "outputs": [
    {
     "name": "stdout",
     "output_type": "stream",
     "text": [
      "It was the best of times  it was the worst of times  it\n",
      "     was the age of wisdom  it was the age of foolishness  it was the\n",
      "     epoch of belief  it was the epoch of incredulity  it was     \n",
      "\n",
      "It was the best of times  it was the worst of times  it\n",
      "was the age of wisdom  it was the age of foolishness  it was the\n",
      "epoch of belief  it was the epoch of incredulity  it was\n",
      "\n",
      "it was the best of times  it was the worst of times  it\n",
      "was the age of wisdom  it was the age of foolishness  it was the\n",
      "epoch of belief  it was the epoch of incredulity  it was\n",
      "\n",
      "6\n",
      "\n",
      "it is the best of times  it is the worst of times  it\n",
      "is the age of wisdom  it is the age of foolishness  it is the\n",
      "epoch of belief  it is the epoch of incredulity  it is\n",
      "\n",
      "['it', 'is', 'the', 'best', 'of', 'times', 'it', 'is', 'the', 'worst', 'of', 'times', 'it', 'is', 'the', 'age', 'of', 'wisdom', 'it', 'is', 'the', 'age', 'of', 'foolishness', 'it', 'is', 'the', 'epoch', 'of', 'belief', 'it', 'is', 'the', 'epoch', 'of', 'incredulity', 'it', 'is']\n"
     ]
    }
   ],
   "source": [
    "s = '''It was the best of times, it was the worst of times; it\n",
    "     was the age of wisdom, it was the age of foolishness; it was the\n",
    "     epoch of belief, it was the epoch of incredulity; it was ... '''\n",
    "\n",
    "table=str.maketrans('.,;',3*' ')\n",
    "newS=s.translate(table)\n",
    "print(newS)\n",
    "print('')\n",
    "newS=newS.replace('     ','')   \n",
    "print(newS)\n",
    "print('')\n",
    "newS=newS.lower()\n",
    "print(newS)\n",
    "print('')\n",
    "print(newS.count('it was'))\n",
    "print('')\n",
    "newS=newS.replace('was','is')\n",
    "print(newS)\n",
    "print('')\n",
    "listS=newS.split()\n",
    "print(listS)"
   ]
  },
  {
   "cell_type": "markdown",
   "metadata": {},
   "source": [
    "### 4.19 Write Python statements that print the next formatted outputs using the already as- signed variables first, middle, and last:\n",
    "\n",
    "                        first = 'Marlena'\n",
    "                        last = 'Sigel'\n",
    "                        middle = 'Mae'\n",
    "        (a) Sigel, Marlena Mae\n",
    "        (b) Sigel, Marlena M.\n",
    "        (c) Marlena M. Sigel\n",
    "        (d) M. M. Sigel\n",
    "        (e) Sigel, M.\n",
    "\n",
    "\n"
   ]
  },
  {
   "cell_type": "code",
   "execution_count": 71,
   "metadata": {},
   "outputs": [
    {
     "name": "stdout",
     "output_type": "stream",
     "text": [
      "(a) Sigel, Marlena Mae\n",
      "(b) Sigel, Marlena M.\n",
      "(c) Marlena M. Sigel\n",
      "(d) M. M. Sigel\n",
      "(e) Sigel, M.\n"
     ]
    }
   ],
   "source": [
    "first = 'Marlena'\n",
    "last = 'Sigel'\n",
    "middle = 'Mae'\n",
    "\n",
    "print('(a) {}, {} {}'.format(last,first,middle))\n",
    "print('(b) {}, {} M.'.format(last,first))\n",
    "print('(c) {} M. {}'.format(first,last))\n",
    "print('(d) M. M. {}'.format(last))\n",
    "print('(e) {}, M.'.format(last))"
   ]
  },
  {
   "cell_type": "markdown",
   "metadata": {},
   "source": [
    "### 4.20 Given string values for the sender, recipient, and subject of an email, write a string format expression that uses variables sender, recipient, and subject and that prints as shown here:\n",
    "        >>> sender = 'tim@abc.com'\n",
    "        >>> recipient = 'tom@xyz.org'\n",
    "        >>> subject = 'Hello!'\n",
    "        >>> print(???)\n",
    "        From: tim@abc.com\n",
    "        To: tom@xyz.org\n",
    "        Subject: Hello!\n"
   ]
  },
  {
   "cell_type": "code",
   "execution_count": 72,
   "metadata": {},
   "outputs": [
    {
     "name": "stdout",
     "output_type": "stream",
     "text": [
      "From: tim@abc.com \n",
      "To: tom@xyz.org \n",
      "Subject: Hello!\n"
     ]
    }
   ],
   "source": [
    "sender = 'tim@abc.com'\n",
    "recipient = 'tom@xyz.org'\n",
    "subject = 'Hello!'\n",
    "\n",
    "print('From: {} \\nTo: {} \\nSubject: {}'.format(sender,recipient,subject))"
   ]
  },
  {
   "cell_type": "markdown",
   "metadata": {},
   "source": [
    "### 4.21 Write Python statements that print the values of π and the Euler constant e in the shown formats:\n",
    "    (a) pi = 3.1, e = 2.7\n",
    "    (b) pi = 3.14, e = 2.72\n",
    "    (c) pi = 3.141593e+00, e = 2.718282e+00\n",
    "    (d) pi = 3.14159, e = 2.71828"
   ]
  },
  {
   "cell_type": "code",
   "execution_count": 77,
   "metadata": {},
   "outputs": [
    {
     "name": "stdout",
     "output_type": "stream",
     "text": [
      "pi = 3.1, e = 2.7\n",
      "pi = 3.14, e = 2.72\n",
      "pi = 3.141593e+00, e = 2.718282e+00\n",
      "pi = 3.14159, e = 2.71828\n"
     ]
    }
   ],
   "source": [
    "import math\n",
    "\n",
    "print('pi = {:3.2}, e = {:3.2}'.format(math.pi,math.e))\n",
    "print('pi = {:4.2f}, e = {:4.2f}'.format(math.pi,math.e))\n",
    "print('pi = {:e}, e = {:e}'.format(math.pi,math.e))\n",
    "print('pi = {:7.5f}, e = {:7.5f}'.format(math.pi,math.e))\n"
   ]
  },
  {
   "cell_type": "markdown",
   "metadata": {},
   "source": [
    "### 4.22 Write a function month() that takes a number between 1 and 12 as input and returns the three-character abbreviation of the corresponding month. Do this without using an if statement, just string operations. Hint: Use a string to store the abbreviations in order.\n"
   ]
  },
  {
   "cell_type": "code",
   "execution_count": 79,
   "metadata": {},
   "outputs": [
    {
     "name": "stdout",
     "output_type": "stream",
     "text": [
      "Enter a number between 1 and 12: 1\n",
      "Jan\n"
     ]
    }
   ],
   "source": [
    "Abb=['','Jan','Feb','Mar','Apr','May','Jun','Jul','Aug','Sep','Oct','Nov','Dec','']\n",
    "def month(n):\n",
    "    Month=Abb[n]\n",
    "    return(Month)\n",
    "n=int(input('Enter a number between 1 and 12: '))\n",
    "print(month(n))"
   ]
  },
  {
   "cell_type": "markdown",
   "metadata": {},
   "source": [
    "### 4.23 Write a function average() that takes no input but requests that the user enter a sentence. Your function should return the average length of a word in the sentence.\n"
   ]
  },
  {
   "cell_type": "code",
   "execution_count": 109,
   "metadata": {},
   "outputs": [
    {
     "name": "stdout",
     "output_type": "stream",
     "text": [
      "Enter a sentance:hello world\n"
     ]
    },
    {
     "data": {
      "text/plain": [
       "5.5"
      ]
     },
     "execution_count": 109,
     "metadata": {},
     "output_type": "execute_result"
    }
   ],
   "source": [
    "def average():\n",
    "    n=input('Enter a sentance:')\n",
    "    words=n.split()\n",
    "    avg_len=len(n)/len(words)\n",
    "    return avg_len\n",
    "average()"
   ]
  },
  {
   "cell_type": "markdown",
   "metadata": {},
   "source": [
    "### 4.24 Implement function cheer() that takes as input a team name (as a string) and prints a cheer as shown:\n"
   ]
  },
  {
   "cell_type": "code",
   "execution_count": 1,
   "metadata": {},
   "outputs": [
    {
     "name": "stdout",
     "output_type": "stream",
     "text": [
      "How do you spell winner? \n",
      "I know, I know! \n",
      "H U S K I E S! \n",
      "And that's how you spell winner! \n",
      "Go Huskies!\n",
      "None\n"
     ]
    }
   ],
   "source": [
    "def cheer(string):\n",
    "    print(\"How do you spell winner? \\nI know, I know! \\n{}! \\nAnd that's how you spell winner! \\nGo {}!\".format((' '.join(string.upper())),string))\n",
    "    \n",
    "print(cheer('Huskies'))"
   ]
  },
  {
   "cell_type": "markdown",
   "metadata": {},
   "source": [
    "### 4.25 Write function vowelCount() that takes a string as input and counts and prints the number of occurrences of vowels in the string.\n"
   ]
  },
  {
   "cell_type": "code",
   "execution_count": 100,
   "metadata": {},
   "outputs": [
    {
     "name": "stdout",
     "output_type": "stream",
     "text": [
      "Enter a sentence: count the number of vowels\n",
      "a, e, i, o, and u appear, respectively, 0, 3, 0, 3, 2 times.\n",
      "None\n"
     ]
    }
   ],
   "source": [
    "def vowelCount(string):\n",
    "    a=string.count('a')\n",
    "    e=string.count('e')\n",
    "    i=string.count('i')\n",
    "    o=string.count('o')\n",
    "    u=string.count('u')\n",
    "    print('a, e, i, o, and u appear, respectively, {}, {}, {}, {}, {} times.'.format(a,e,i,o,u))\n",
    "string=input(\"Enter a sentence: \")\n",
    "print(vowelCount(string))"
   ]
  },
  {
   "cell_type": "markdown",
   "metadata": {},
   "source": [
    "### 4.26 The cryptography function crypto() takes as input a string (i.e., the name of a file in the current directory). The function should print the file on the screen with this modification: Every occurrence of string 'secret' in the file should be replaced with string 'xxxxxx'.\n",
    "\n"
   ]
  },
  {
   "cell_type": "code",
   "execution_count": 101,
   "metadata": {},
   "outputs": [
    {
     "name": "stdout",
     "output_type": "stream",
     "text": [
      "I will tell you my Secret. But first, I have to explain\n",
      "why it is a xxxxxx.\n",
      "And that is all I will tell you about my xxxxxx.\n",
      "\n"
     ]
    }
   ],
   "source": [
    "def crypto(filename):\n",
    "    infile=open(filename,'r')\n",
    "    content=infile.read()\n",
    "    content=content.replace('secret','xxxxxx')\n",
    "    return content\n",
    "print(crypto('copy.txt'))\n"
   ]
  },
  {
   "cell_type": "markdown",
   "metadata": {},
   "source": [
    "### 4.27 Write a function fcopy() that takes as input two file names (as strings) and copies the content of the first file into the second.\n"
   ]
  },
  {
   "cell_type": "code",
   "execution_count": 39,
   "metadata": {},
   "outputs": [
    {
     "data": {
      "text/plain": [
       "'I will tell you my Secret. But first, I have to explain\\nwhy it is a secret.\\nAnd that is all I will tell you about my secret.\\n'"
      ]
     },
     "execution_count": 39,
     "metadata": {},
     "output_type": "execute_result"
    }
   ],
   "source": [
    "def fcopy(filename1,filename2):\n",
    "    infile1=open(filename1,'r')\n",
    "    infile2=open(filename2,'w')\n",
    "    infile2.write(infile1.read())\n",
    "fcopy('Example.txt','copy.txt')\n",
    "open('copy.txt').read()    \n"
   ]
  },
  {
   "cell_type": "markdown",
   "metadata": {},
   "source": [
    "### 4.28 Implement function links() that takes as input the name of an HTML file (as a string) and returns the number of hyperlinks in that file. To do this you will assume that each hyperlink appears in an anchor tag. You also need to know that every anchor tag end with the substring </a>.\n"
   ]
  },
  {
   "cell_type": "code",
   "execution_count": 131,
   "metadata": {},
   "outputs": [
    {
     "data": {
      "text/plain": [
       "11"
      ]
     },
     "execution_count": 131,
     "metadata": {},
     "output_type": "execute_result"
    }
   ],
   "source": [
    "\n",
    "def link(filename):\n",
    "    infile=open(filename)\n",
    "    content=infile.read()\n",
    "    infile.close()\n",
    "    return content.count('</a>')\n",
    "    \n",
    "link('Python.html')"
   ]
  },
  {
   "cell_type": "markdown",
   "metadata": {},
   "source": [
    "### 4.29 Write a function stats() that takes one input argument: the name of a text file. The function should print, on the screen, the number of lines, words, and characters in the file; your function should open the file only once.\n"
   ]
  },
  {
   "cell_type": "code",
   "execution_count": 128,
   "metadata": {},
   "outputs": [
    {
     "name": "stdout",
     "output_type": "stream",
     "text": [
      "number of lines=  125\n",
      "number of words=  28\n",
      "number of characters=  125\n",
      "None\n"
     ]
    }
   ],
   "source": [
    "\n",
    "def stats(filename):\n",
    "    l=0\n",
    "    L=0\n",
    "    infile=open(filename)\n",
    "    content=infile.read()\n",
    "    for line in content:\n",
    "        l=l+1\n",
    "        L=L+len(line)\n",
    "        w=len(content.split())\n",
    "    print('number of lines= ',l)\n",
    "    print('number of words= ',w)\n",
    "    print('number of characters= ',L)\n",
    "print(stats('copy.txt'))"
   ]
  },
  {
   "cell_type": "markdown",
   "metadata": {},
   "source": [
    "### 4.30 Implement function distribution() that takes as input the name of a file (as a string). This one-line file will contain letter grades separated by blanks. Your function should print the distribution of grades, as shown.\n",
    "\n"
   ]
  },
  {
   "cell_type": "code",
   "execution_count": 124,
   "metadata": {},
   "outputs": [],
   "source": [
    "def distribution(filename):\n",
    "    infile = open(filename,'r')\n",
    "    grades = infile.read()\n",
    "    aCount = grades.count('A\\n')\n",
    "    aMinusCount = grades.count('A-\\n')\n",
    "    bCount = grades.count('B\\n')\n",
    "    bMinusCount = grades.count('B-\\n')\n",
    "    cCount = grades.count('C\\n')\n",
    "    cMinusCount = grades.count('C-\\n')\n",
    "    dCount = grades.count('D\\n')\n",
    "    dMinusCount = grades.count('D-\\n')\n",
    "    fCount = grades.count('F')\n",
    "    print(aCount, 'students got A')\n",
    "    print(aMinusCount, 'students got A-')\n",
    "    print(bCount, 'students got B')\n",
    "    print(bMinusCount, 'students got B-')\n",
    "    print(cCount, 'students got C')\n",
    "    print(cMinusCount, 'students got C-')\n",
    "    if dCount == 0:\n",
    "        pass\n",
    "    else:\n",
    "        print(dCount, 'students got D')\n",
    "    if dMinusCount == 0:\n",
    "        pass\n",
    "    else:\n",
    "        print(dMinusCount, 'students got D-')\n",
    "    print(fCount, 'students got F')"
   ]
  },
  {
   "cell_type": "markdown",
   "metadata": {},
   "source": [
    "### 4.31 Implement function duplicate() that takes as input the name (a string) of a file in thecurrent directory and returns True if the file contains duplicate words and False otherwise.\n",
    "\n"
   ]
  },
  {
   "cell_type": "code",
   "execution_count": 113,
   "metadata": {},
   "outputs": [
    {
     "data": {
      "text/plain": [
       "True"
      ]
     },
     "execution_count": 113,
     "metadata": {},
     "output_type": "execute_result"
    }
   ],
   "source": [
    "def duplicate(filename):\n",
    "    infile=open(filename)\n",
    "    content=infile.read()\n",
    "    infile.close()\n",
    "    table=str.maketrans(\".,?!\",4*\" \")\n",
    "    content=content.translate(table)\n",
    "    words=content.split()\n",
    "    words_set=set(words)\n",
    "    if len(words)==len(words_set):\n",
    "        return False\n",
    "    else:\n",
    "        return True\n",
    "duplicate('copy.txt')\n",
    "        "
   ]
  },
  {
   "cell_type": "markdown",
   "metadata": {},
   "source": [
    "### 4.32 The function censor() takes the name of a file (a string) as input. The function should open the file, read it, and then write it into file censored.txt with this modification: Every occurrence of a four-letter word in the file should be replaced with string 'xxxx'.\n"
   ]
  },
  {
   "cell_type": "code",
   "execution_count": 123,
   "metadata": {},
   "outputs": [],
   "source": [
    "def censor(filename):\n",
    "    infile=open(filename)\n",
    "    content=infile.read()\n",
    "    infile.close()\n",
    "    table=str.maketrans(\".,?!\",4*\" \")\n",
    "    content_1=content.translate(table)\n",
    "    words=content_1.split()\n",
    "    for word in words:\n",
    "        if len(word)==4:\n",
    "            content=content.replace(word,\"xxxx\")\n",
    "    output=open(\"censored.txt\",\"w\")\n",
    "    output.write(content)\n",
    "    output.close()\n",
    "censor('example.txt')"
   ]
  }
 ],
 "metadata": {
  "kernelspec": {
   "display_name": "Python 3",
   "language": "python",
   "name": "python3"
  },
  "language_info": {
   "codemirror_mode": {
    "name": "ipython",
    "version": 3
   },
   "file_extension": ".py",
   "mimetype": "text/x-python",
   "name": "python",
   "nbconvert_exporter": "python",
   "pygments_lexer": "ipython3",
   "version": "3.6.5"
  }
 },
 "nbformat": 4,
 "nbformat_minor": 2
}
